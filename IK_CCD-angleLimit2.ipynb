{
 "cells": [
  {
   "cell_type": "markdown",
   "metadata": {},
   "source": [
    "## Inverse Kinematics: CCD + Angle Limit"
   ]
  },
  {
   "cell_type": "code",
   "execution_count": null,
   "metadata": {
    "ExecuteTime": {
     "end_time": "2021-04-30T22:36:08.759826Z",
     "start_time": "2021-04-30T22:36:08.264024Z"
    },
    "execution": {
     "iopub.execute_input": "2021-03-09T19:28:06.847Z",
     "iopub.status.busy": "2021-03-09T19:28:06.829Z",
     "iopub.status.idle": "2021-03-09T19:28:06.867Z",
     "shell.execute_reply": "2021-03-09T19:28:07.034Z"
    }
   },
   "outputs": [],
   "source": [
    "%matplotlib notebook\n",
    "import numpy as np\n",
    "import matplotlib.pyplot as plt\n",
    "from math import tau, pi, sin, cos"
   ]
  },
  {
   "cell_type": "code",
   "execution_count": null,
   "metadata": {
    "ExecuteTime": {
     "end_time": "2021-04-30T22:36:17.677589Z",
     "start_time": "2021-04-30T22:36:17.633383Z"
    },
    "execution": {
     "iopub.execute_input": "2021-03-09T19:28:06.922Z",
     "iopub.status.busy": "2021-03-09T19:28:06.898Z",
     "iopub.status.idle": "2021-03-09T19:28:06.936Z",
     "shell.execute_reply": "2021-03-09T19:28:07.040Z"
    }
   },
   "outputs": [],
   "source": [
    "class Arm:\n",
    "    def __init__(self, ax, ay, length, angle, minAngle=-pi/2, maxAngle=pi/2):\n",
    "        self.ax = ax\n",
    "        self.ay = ay\n",
    "        self.length = length\n",
    "        self.angle = convTheta(angle)\n",
    "        self.bx = self.ax + self.length * cos(self.angle)\n",
    "        self.by = self.ay + self.length * sin(self.angle)\n",
    "        self.minAngle = convTheta(minAngle)\n",
    "        self.maxAngle = convTheta(maxAngle)\n",
    "    \n",
    "    def angleLimit(self, prevTheta, newTheta):\n",
    "        theta = convTheta(newTheta - prevTheta)\n",
    "        if theta < self.minAngle:\n",
    "            theta = self.minAngle\n",
    "        elif theta > self.maxAngle:\n",
    "            theta = self.maxAngle\n",
    "        self.angle = theta + prevTheta\n",
    "        self.bx = self.ax + self.length * cos(self.angle)\n",
    "        self.by = self.ay + self.length * sin(self.angle)\n",
    "\n",
    "def convTheta(theta): # convert to Angle range between -180 and 180 degrees\n",
    "    theta = theta % tau\n",
    "    if theta > pi:\n",
    "        theta = theta - tau\n",
    "    return theta "
   ]
  },
  {
   "cell_type": "code",
   "execution_count": null,
   "metadata": {
    "ExecuteTime": {
     "end_time": "2021-04-30T22:36:20.174058Z",
     "start_time": "2021-04-30T22:36:20.039066Z"
    },
    "code_folding": [
     18
    ]
   },
   "outputs": [],
   "source": [
    "N  = 4 # the number of links\n",
    "OX = 0 # offset x\n",
    "OY = 0 # offset y\n",
    "\n",
    "ccd, ccd2 = [], []\n",
    "linkLength = 1\n",
    "initTheta = pi / 2\n",
    "\n",
    "for i in range(N):\n",
    "    if i == 0:\n",
    "        ccd.append(Arm(OX, OY, linkLength, initTheta))\n",
    "        ccd2.append(Arm(OX, OY, linkLength, initTheta, 0, pi))\n",
    "    else:\n",
    "        ccd.append(Arm(ccd[i-1].bx, ccd[i-1].by, linkLength, initTheta))\n",
    "        ccd2.append(Arm(ccd2[i-1].bx, ccd2[i-1].by, linkLength, initTheta, -pi/2, pi/2))\n",
    "    \n",
    "CX, CY = [], []        \n",
    "LX, LY = [], []\n",
    "for i in range(N):\n",
    "    CX.append([ccd[i].ax, ccd[i].bx])\n",
    "    CY.append([ccd[i].ay, ccd[i].by])\n",
    "    LX.append([ccd2[i].ax, ccd2[i].bx])\n",
    "    LY.append([ccd2[i].ay, ccd2[i].by])\n",
    "        \n",
    "fig = plt.figure(figsize=(5,5))\n",
    "ax = fig.add_subplot(111, alpha=0.6)\n",
    "ax.axis([-1,N+1,-1,N+1])\n",
    "ax.grid()\n",
    "ax.plot(CX, CY, color='tab:blue', alpha=0.6)\n",
    "ax.scatter(CX, CY, color='tab:blue', alpha=0.6)\n",
    "ax.plot(LX, LY, color='magenta', alpha=0.6)\n",
    "ax.scatter(LX, LY, color='magenta', alpha=0.6)"
   ]
  },
  {
   "cell_type": "markdown",
   "metadata": {
    "ExecuteTime": {
     "end_time": "2021-04-17T19:09:02.040245Z",
     "start_time": "2021-04-17T19:09:02.031562Z"
    }
   },
   "source": [
    "<img width=\"70%\" align=\"left\" alt=\"ccd\" src=\"https://user-images.githubusercontent.com/26479204/116737642-671a6c80-aa2c-11eb-898f-0dbf50bddcc9.png\">"
   ]
  },
  {
   "cell_type": "code",
   "execution_count": null,
   "metadata": {
    "ExecuteTime": {
     "end_time": "2021-04-30T22:36:26.594645Z",
     "start_time": "2021-04-30T22:36:26.466470Z"
    },
    "code_folding": [
     0
    ]
   },
   "outputs": [],
   "source": [
    "def CCD(arm, tx, ty):\n",
    "    for i in reversed(range(N)):\n",
    "        targetTheta = np.arctan2(ty - arm[i].ay, tx - arm[i].ax)\n",
    "        tipTheta = np.arctan2(arm[-1].by - arm[i].ay, arm[-1].bx - arm[i].ax)\n",
    "        theta = targetTheta - tipTheta;\n",
    "        for j in range(i, N):\n",
    "            linkTheta = np.arctan2(arm[j].by - arm[i].ay, arm[j].bx - arm[i].ax)\n",
    "            linkDist = ((arm[j].bx - arm[i].ax)**2 + (arm[j].by - arm[i].ay)**2)**0.5\n",
    "            arm[j].bx = arm[i].ax + linkDist * np.cos(theta + linkTheta)\n",
    "            arm[j].by = arm[i].ay + linkDist * np.sin(theta + linkTheta)\n",
    "            if j < N - 1:\n",
    "                arm[j+1].ax = arm[j].bx\n",
    "                arm[j+1].ay = arm[j].by\n",
    "    \n",
    "    PX, PY = [], []\n",
    "    for i in range(N):\n",
    "        PX.append(arm[i].ax)\n",
    "        PY.append(arm[i].ay)\n",
    "    PX.append(arm[N-1].bx)\n",
    "    PY.append(arm[N-1].by)\n",
    "    \n",
    "    return PX, PY\n",
    "\n",
    "\n",
    "def CCD2(arm, tx, ty):\n",
    "    for i in reversed(range(N)):\n",
    "        targetTheta = np.arctan2(ty - arm[i].ay, tx - arm[i].ax)\n",
    "        tipTheta = np.arctan2(arm[-1].by - arm[i].ay, arm[-1].bx - arm[i].ax)\n",
    "        dTheta = convTheta(targetTheta - tipTheta)\n",
    "        for j in range(i, N):\n",
    "            if j == 0:\n",
    "                arm[j].angleLimit(0, arm[j].angle + dTheta)\n",
    "            else:\n",
    "                arm[j].ax = arm[j-1].bx\n",
    "                arm[j].ay = arm[j-1].by\n",
    "                linkTheta = np.arctan2(arm[j].by - arm[i].ay, arm[j].bx - arm[i].ax)\n",
    "                linkDist = ((arm[j].bx - arm[i].ax)**2 + (arm[j].by - arm[i].ay)**2)**0.5\n",
    "                arm[j].bx = arm[i].ax + linkDist * cos(linkTheta + dTheta)\n",
    "                arm[j].by = arm[i].ay + linkDist * sin(linkTheta + dTheta)\n",
    "                \n",
    "                newTheta = np.arctan2(arm[j].by - arm[j].ay, arm[j].bx - arm[j].ax)\n",
    "                arm[j].angleLimit(arm[j-1].angle, newTheta)\n",
    "\n",
    "                \n",
    "    PX, PY = [], []\n",
    "    for i in range(N):\n",
    "        PX.append(arm[i].ax)\n",
    "        PY.append(arm[i].ay)\n",
    "    PX.append(arm[N-1].bx)\n",
    "    PY.append(arm[N-1].by)\n",
    "    \n",
    "    return PX, PY\n",
    "\n",
    "tx, ty = N*0.7, N*0.5\n",
    "CX, CY = CCD(ccd, tx, ty)\n",
    "LX, LY = CCD2(ccd2, tx, ty)\n",
    "\n",
    "fig = plt.figure(figsize=(5,5))\n",
    "ax = fig.add_subplot(111)\n",
    "ax.axis([-1,N+1,-1,N+1])\n",
    "ax.grid()\n",
    "ax.plot(CX, CY, color='tab:blue', alpha=0.6)\n",
    "ax.scatter(CX, CY, color='tab:blue', alpha=0.6)\n",
    "ax.plot(LX, LY, color='magenta', alpha=0.6)\n",
    "ax.scatter(LX, LY, color='magenta', alpha=0.6)\n",
    "ax.plot([tx], [ty], marker='x', ms=30, color='red')"
   ]
  },
  {
   "cell_type": "markdown",
   "metadata": {},
   "source": [
    "## Interactive mode: Arm follows Mouse"
   ]
  },
  {
   "cell_type": "code",
   "execution_count": null,
   "metadata": {
    "ExecuteTime": {
     "end_time": "2021-04-30T22:37:04.954142Z",
     "start_time": "2021-04-30T22:37:04.850137Z"
    },
    "code_folding": []
   },
   "outputs": [],
   "source": [
    "def motion(event):\n",
    "    mx = event.xdata\n",
    "    my = event.ydata\n",
    "    Mouse.set_data(mx, my)\n",
    "    \n",
    "    CX, CY = CCD(ccd, mx, my)\n",
    "    CLine.set_data(CX, CY)\n",
    "    CDot.set_data(CX, CY)\n",
    "    \n",
    "    LX, LY = CCD2(ccd2, mx, my)\n",
    "    LLine.set_data(LX, LY)\n",
    "    LDot.set_data(LX, LY)\n",
    "    \n",
    "    plt.draw()\n",
    "\n",
    "fig = plt.figure(figsize=(5,5))\n",
    "ax = fig.add_subplot(111)\n",
    "ax.axis([-1,N+1,-1,N+1])\n",
    "ax.grid()\n",
    "\n",
    "CLine, = ax.plot([],[], linestyle='-', color='tab:blue', alpha=0.6, label='CCD')\n",
    "CDot, = ax.plot([],[], marker='o', color='tab:blue', alpha=0.6)\n",
    "LLine, = ax.plot([],[], linestyle='-', color='magenta', alpha=0.6, label='CCD_AL')\n",
    "LDot, = ax.plot([],[], marker='o', color='magenta', alpha=0.6)\n",
    "Mouse, = ax.plot([],[], marker='x', ms=20, color='red')\n",
    "\n",
    "plt.connect('motion_notify_event', motion)\n",
    "plt.legend(loc='lower right')\n",
    "plt.show()"
   ]
  },
  {
   "cell_type": "code",
   "execution_count": null,
   "metadata": {},
   "outputs": [],
   "source": []
  },
  {
   "cell_type": "code",
   "execution_count": null,
   "metadata": {},
   "outputs": [],
   "source": []
  }
 ],
 "metadata": {
  "_draft": {
   "nbviewer_url": "https://gist.github.com/9812d63557b813f1dd5ae3bbb01ff460"
  },
  "gist": {
   "data": {
    "description": "IK_CCD_AngleLimit",
    "public": true
   },
   "id": "9812d63557b813f1dd5ae3bbb01ff460"
  },
  "kernelspec": {
   "display_name": "Python 3",
   "language": "python",
   "name": "python3"
  },
  "language_info": {
   "codemirror_mode": {
    "name": "ipython",
    "version": 3
   },
   "file_extension": ".py",
   "mimetype": "text/x-python",
   "name": "python",
   "nbconvert_exporter": "python",
   "pygments_lexer": "ipython3",
   "version": "3.8.5"
  },
  "nteract": {
   "version": "0.28.0"
  }
 },
 "nbformat": 4,
 "nbformat_minor": 4
}
