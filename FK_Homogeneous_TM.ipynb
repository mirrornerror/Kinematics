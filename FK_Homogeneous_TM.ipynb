{
 "cells": [
  {
   "cell_type": "markdown",
   "metadata": {},
   "source": [
    "## FK Homogeneous Transfomation Matrix"
   ]
  },
  {
   "cell_type": "code",
   "execution_count": 6,
   "metadata": {
    "ExecuteTime": {
     "end_time": "2021-04-02T09:29:56.115921Z",
     "start_time": "2021-04-02T09:29:56.111995Z"
    }
   },
   "outputs": [],
   "source": [
    "#%matplotlib notebook\n",
    "#%matplotlib inline\n",
    "import numpy as np\n",
    "import matplotlib.pyplot as plt\n",
    "from numpy.linalg import inv, pinv, norm"
   ]
  },
  {
   "cell_type": "markdown",
   "metadata": {},
   "source": [
    "### Plot function:"
   ]
  },
  {
   "cell_type": "code",
   "execution_count": 7,
   "metadata": {
    "ExecuteTime": {
     "end_time": "2021-04-02T09:29:59.927909Z",
     "start_time": "2021-04-02T09:29:59.916758Z"
    }
   },
   "outputs": [],
   "source": [
    "def Plot(X, Y):\n",
    "    fig = plt.figure(figsize=(5,5))\n",
    "    ax = fig.add_subplot(111)\n",
    "    n = len(X)\n",
    "    ax.axis([-1,n,-1,n])\n",
    "    ax.grid()\n",
    "    ax.plot(X, Y)\n",
    "    ax.scatter(X, Y)\n",
    "    ax.text(X[0], Y[0]-0.4, 'Base', ha='center')\n",
    "    ax.text(X[-1], Y[-1]+0.2, 'End Effector', ha='left')\n",
    "    ax.plot(Target[0], Target[1], marker='x', ms=20, color='red')\n",
    "    ax.text(Target[0], Target[1]-0.2, 'Target', ha='left', va='top', color='red')"
   ]
  },
  {
   "cell_type": "markdown",
   "metadata": {},
   "source": [
    "### 3-Link FK: 3x3 Homogeneous Transformation Matrix"
   ]
  },
  {
   "cell_type": "code",
   "execution_count": 8,
   "metadata": {
    "ExecuteTime": {
     "end_time": "2021-04-02T09:30:05.629973Z",
     "start_time": "2021-04-02T09:30:05.254295Z"
    }
   },
   "outputs": [
    {
     "data": {
      "image/png": "[encoded data removed]",
      "text/plain": [
       "<Figure size 360x360 with 1 Axes>"
      ]
     },
     "metadata": {
      "needs_background": "light"
     },
     "output_type": "display_data"
    }
   ],
   "source": [
    "Target = np.array([2, 1, 1], dtype='float64') # dummy target\n",
    "\n",
    "L0 = 0\n",
    "L1 = 1\n",
    "L2 = 1\n",
    "L3 = 1\n",
    "th0 = np.radians(45)\n",
    "th1 = np.radians(45)\n",
    "th2 = np.radians(-45)\n",
    "\n",
    "R0 = np.array([[np.cos(th0), -np.sin(th0), L0],\n",
    "               [np.sin(th0),  np.cos(th0),  0],\n",
    "               [         0,             0,  1]])\n",
    "\n",
    "\n",
    "R1 = np.array([[np.cos(th1), -np.sin(th1), L1],\n",
    "               [np.sin(th1),  np.cos(th1),  0],\n",
    "               [         0,             0,  1]])\n",
    "\n",
    "\n",
    "R2 = np.array([[np.cos(th2), -np.sin(th2), L2],\n",
    "               [np.sin(th2),  np.cos(th2),  0],\n",
    "               [         0,             0,  1]])\n",
    "\n",
    "R3 = np.array([[1, 0, L3],\n",
    "               [0, 1,  0],\n",
    "               [0, 0,  1]])\n",
    "\n",
    "# R3 = np.array([[L3],\n",
    "#                 [0],\n",
    "#                 [1]])\n",
    "\n",
    "V0 = R0\n",
    "V1 = V0 @ R1\n",
    "V2 = V1 @ R2\n",
    "V3 = V2 @ R3\n",
    "\n",
    "X = [V0[0, 2], V1[0, 2], V2[0, 2], V3[0, 2]]\n",
    "Y = [V0[1, 2], V1[1, 2], V2[1, 2], V3[1, 2]]\n",
    "\n",
    "Plot(X, Y)"
   ]
  },
  {
   "cell_type": "code",
   "execution_count": 10,
   "metadata": {
    "ExecuteTime": {
     "end_time": "2021-04-02T09:31:29.546695Z",
     "start_time": "2021-04-02T09:31:29.324001Z"
    }
   },
   "outputs": [
    {
     "data": {
      "image/png": "[encoded data removed]",
      "text/plain": [
       "<Figure size 360x360 with 1 Axes>"
      ]
     },
     "metadata": {
      "needs_background": "light"
     },
     "output_type": "display_data"
    }
   ],
   "source": [
    "# FK: 3x3 Homogeneous Transformation Matrix\n",
    "\n",
    "L = [1, 1, 1]\n",
    "N = len(L)\n",
    "TH = np.radians([45, 45, -45])\n",
    "\n",
    "R00 = np.array([[np.cos(TH[0]), -np.sin(TH[0]),    0],\n",
    "                [np.sin(TH[0]),  np.cos(TH[0]),    0],\n",
    "                [            0,              0,    1]])\n",
    "\n",
    "R01 = np.array([[np.cos(TH[1]), -np.sin(TH[1]), L[0]],\n",
    "                [np.sin(TH[1]),  np.cos(TH[1]),    0],\n",
    "                [            0,              0,    1]])\n",
    "\n",
    "R12 = np.array([[np.cos(TH[2]), -np.sin(TH[2]), L[1]],\n",
    "                [np.sin(TH[2]),  np.cos(TH[2]),    0],\n",
    "                [            0,              0,    1]])\n",
    "\n",
    "R23 = np.array([[            1,             0,  L[2]],\n",
    "                [            0,             1,     0],\n",
    "                [            0,             0,     1]])\n",
    "\n",
    "R = [R00, R01, R12, R23]\n",
    "Rn = np.identity(3)\n",
    "\n",
    "for i in range(N + 1):\n",
    "    Rn = Rn @ R[i]\n",
    "    \n",
    "\n",
    "P = np.array([[0, 0, 1]])\n",
    "T00 = R00 @ P.T\n",
    "T01 = R00 @ R01 @ P.T\n",
    "T02 = R00 @ R01 @ R12 @ P.T\n",
    "T03 = R00 @ R01 @ R12 @ R23 @ P.T\n",
    "\n",
    "X = [T00[0, 0], T01[0, 0], T02[0, 0], T03[0, 0]]\n",
    "Y = [T00[1, 0], T01[1, 0], T02[1, 0], T03[1, 0]]\n",
    "\n",
    "Target = np.array([2, 1, 1])\n",
    "Plot(X, Y)"
   ]
  },
  {
   "cell_type": "code",
   "execution_count": 29,
   "metadata": {
    "ExecuteTime": {
     "end_time": "2021-04-02T09:34:51.582251Z",
     "start_time": "2021-04-02T09:34:51.269319Z"
    },
    "code_folding": []
   },
   "outputs": [
    {
     "data": {
      "image/png": "[encoded data removed]",
      "text/plain": [
       "<Figure size 360x360 with 1 Axes>"
      ]
     },
     "metadata": {
      "needs_background": "light"
     },
     "output_type": "display_data"
    }
   ],
   "source": [
    "# FK and IK with Jacobian + Homogeneous Transformation Matrix\n",
    "\n",
    "N = 3                               # the number of links\n",
    "L  = [0.0] + [1.0] * N              # length of each link\n",
    "TH = [np.radians(90 / N)] * N + [0] # theta at each joint\n",
    "Target = np.array([2.0, 2.0, 1.0])  # target coodinates(dummy)\n",
    "\n",
    "def R(L, TH): # Homogeneous Transformation Matrix for FK\n",
    "    r = np.array([[np.cos(TH), -np.sin(TH), L],\n",
    "                  [np.sin(TH),  np.cos(TH), 0],\n",
    "                  [         0,           0, 1]])\n",
    "    return r\n",
    "\n",
    "X = []\n",
    "Y = []\n",
    "V = np.identity(3)\n",
    "for i in range(N + 1):\n",
    "    V = V @ R(L[i], TH[i])\n",
    "    X.append(V[0, 2])\n",
    "    Y.append(V[1, 2])\n",
    "    \n",
    "Plot(X, Y)"
   ]
  },
  {
   "cell_type": "code",
   "execution_count": 32,
   "metadata": {
    "ExecuteTime": {
     "end_time": "2021-04-02T09:35:08.764919Z",
     "start_time": "2021-04-02T09:35:08.464033Z"
    },
    "code_folding": [],
    "run_control": {
     "marked": false
    }
   },
   "outputs": [
    {
     "name": "stdout",
     "output_type": "stream",
     "text": [
      "Error: [-7.64993979e-06  9.12251524e-07]\n",
      "Loops: 0\n"
     ]
    },
    {
     "data": {
      "image/png": "[encoded data removed]",
      "text/plain": [
       "<Figure size 360x360 with 1 Axes>"
      ]
     },
     "metadata": {
      "needs_background": "light"
     },
     "output_type": "display_data"
    }
   ],
   "source": [
    "def dR(L, TH): # Derivatives of the Rotation Matrix\n",
    "    dr = np.array([[-np.sin(TH), -np.cos(TH), L],\n",
    "                   [ np.cos(TH), -np.sin(TH), 0],\n",
    "                   [          0,           0, 1]])\n",
    "    return dr\n",
    "\n",
    "Target = np.array([2.5, 1, 1], dtype='float64')\n",
    "LL = sum(L)\n",
    "TN = norm(Target[:2])\n",
    "if LL - TN <= 0:\n",
    "    Target[:2] = Target[:2] * LL / TN\n",
    "    print('Target overwritten as:', Target[:2])\n",
    "\n",
    "loops = 0\n",
    "scaler = 0.5\n",
    "\n",
    "while True:\n",
    "    V = np.identity(3)\n",
    "    for i in range(N + 1):\n",
    "        V = V @ R(L[i], TH[i])\n",
    "        \n",
    "    Err = Target - V[:3, 2] \n",
    "    if  norm(Err) < 1e-5:\n",
    "        print('Error:', Err[:2])\n",
    "        print('Loops:', loops)\n",
    "        break\n",
    "        \n",
    "    J = np.identity(3)\n",
    "    for i in range(N + 1):\n",
    "        J = J @ dR(L[i], TH[i])\n",
    "\n",
    "    dTheta = inv(J) @ Err.reshape(3, 1) * scaler\n",
    "    TH[:3] += dTheta.reshape(3,)\n",
    "        \n",
    "    loops += 1 \n",
    "    if loops > 1000:\n",
    "        print('More than 1000 loops.')\n",
    "        break   \n",
    "        \n",
    "X = []\n",
    "Y = []\n",
    "V = np.identity(3)\n",
    "for i in range(N + 1):\n",
    "    V = V @ R(L[i], TH[i])\n",
    "    X.append(V[0, 2])\n",
    "    Y.append(V[1, 2])\n",
    "    \n",
    "Plot(X, Y)"
   ]
  },
  {
   "cell_type": "code",
   "execution_count": null,
   "metadata": {
    "ExecuteTime": {
     "end_time": "2021-03-17T01:14:14.926689Z",
     "start_time": "2021-03-17T01:14:14.442970Z"
    },
    "code_folding": [
     13,
     29,
     43
    ],
    "run_control": {
     "marked": false
    }
   },
   "outputs": [],
   "source": [
    "# 3-Link Arm : Forward Kinematics and Inverse Kinematics with Jacobian Matrix\n",
    "L1 = 1\n",
    "L2 = 1\n",
    "L3 = 1\n",
    "theta1 = np.radians(45)\n",
    "theta2 = np.radians(45)\n",
    "theta3 = np.radians(-45)\n",
    "\n",
    "Target = [1, 1]\n",
    "L = [L1, L2, L3]\n",
    "TH = [theta1, theta2, theta3]\n",
    "N = len(L)\n",
    "\n",
    "def FK(L, TH, plot=False):\n",
    "    x0 = 0\n",
    "    x1 = x0 + L[0] * np.cos(TH[0])\n",
    "    x2 = x1 + L[1] * np.cos(TH[0] + TH[1])\n",
    "    x3 = x2 + L[2] * np.cos(TH[0] + TH[1] + TH[2])\n",
    "    y0 = 0\n",
    "    y1 = y0 + L[0] * np.sin(TH[0])\n",
    "    y2 = y1 + L[1] * np.sin(TH[0] + TH[1])\n",
    "    y3 = y2 + L[2] * np.sin(TH[0] + TH[1] + TH[2])\n",
    "    X = [x0, x1, x2, x3]\n",
    "    Y = [y0, y1, y2, y3]\n",
    "    if plot:\n",
    "        return X, Y\n",
    "    else:\n",
    "        return np.array([[x3, y3]])\n",
    "\n",
    "def JMatrix(L, TH):\n",
    "    L1 = L[0]\n",
    "    L2 = L[1]\n",
    "    L3 = L[2]\n",
    "    S1   = np.sin(TH[0])\n",
    "    S12  = np.sin(TH[0] + TH[1])\n",
    "    S123 = np.sin(TH[0] + TH[1] + TH[2])\n",
    "    C1   = np.cos(TH[0])\n",
    "    C12  = np.cos(TH[0] + TH[1])\n",
    "    C123 = np.cos(TH[0] + TH[1] + TH[2])\n",
    "    J = np.array([[- L1 * S1 - L2 * S12 - L3 * S123, - L2 * S12 - L3 * S123, - L3 * S123], \n",
    "                  [  L1 * C1 + L2 * C12 + L3 * C123,   L2 * C12 + L3 * C123, + L3 * C123]])\n",
    "    return J\n",
    "\n",
    "def Plot(X, Y):\n",
    "    fig = plt.figure(figsize=(5,5))\n",
    "    ax = fig.add_subplot(111)\n",
    "    ax.axis([-1,N+1,-1,N+1])\n",
    "    ax.grid()\n",
    "    ax.plot(X, Y)\n",
    "    ax.scatter(X, Y)\n",
    "    ax.plot(Target[0], Target[1], 'ro')\n",
    "    ax.text(X[0], Y[0]-0.4, 'Base', ha='center')\n",
    "    ax.text(X[-1], Y[-1]+0.2, 'End Effector', ha='left')\n",
    "    ax.text(Target[0], Target[1]-0.2, 'Target', ha='left', va='top')\n",
    "    \n",
    "X, Y = FK(L, TH, plot=True)\n",
    "Plot(X, Y)\n",
    "print('End-effector:  x =',X[-1], ', y =', Y[-1])"
   ]
  },
  {
   "cell_type": "code",
   "execution_count": null,
   "metadata": {
    "ExecuteTime": {
     "end_time": "2021-03-16T09:40:59.766076Z",
     "start_time": "2021-03-16T09:40:59.447217Z"
    }
   },
   "outputs": [],
   "source": [
    "rate = 0.1\n",
    "loops = 0\n",
    "if sum(L) - np.linalg.norm(Target) > 0:\n",
    "    while True:       \n",
    "        J = JMatrix(L, TH) # Jacobian Matrix\n",
    "        Jp = J.T.dot(np.linalg.inv(J.dot(J.T))) # J Pseudo Matrix: JT·inv(J·JT)\n",
    "        \n",
    "        Err = Target - FK(L, TH)  # error between Target vector and current End-effector vector\n",
    "        dTheta = Jp @ Err.T    # theta derivartives for the next motion\n",
    "        TH += dTheta[:, 0] * rate # multiplying some rate to get a smooth transition(but slower)\n",
    "        loops += 1\n",
    "        \n",
    "        ErrNorm = np.linalg.norm(Err)\n",
    "        if  ErrNorm < 1e-5:\n",
    "            X, Y = FK(L, TH, plot=True)\n",
    "            Plot(X, Y)\n",
    "            print('End-effector:  x =',X[-1], ', y =', Y[-1])\n",
    "            print('Error(< 1e-5):', ErrNorm)\n",
    "            print('Loops:', cnt)          \n",
    "            break       \n",
    "else:\n",
    "    print('No reach at all')"
   ]
  },
  {
   "cell_type": "code",
   "execution_count": null,
   "metadata": {
    "ExecuteTime": {
     "end_time": "2021-03-16T11:58:35.831819Z",
     "start_time": "2021-03-16T11:58:35.520842Z"
    }
   },
   "outputs": [],
   "source": [
    "# Interactive Mode: Arm follows Mouse\n",
    "\n",
    "def motion(event):\n",
    "    global TH\n",
    "    mx = event.xdata\n",
    "    my = event.ydata\n",
    "    Mouse.set_data(mx, my)\n",
    "    \n",
    "    Target = np.array([mx, my])\n",
    "    TN = np.linalg.norm(Target)\n",
    "    if sum(L) - TN <= 0:\n",
    "        Target *= sum(L) / TN\n",
    "    \n",
    "    while True:\n",
    "        J = JMatrix(L, TH)        # Jacobian Matrix\n",
    "        Jp = J.T.dot(np.linalg.inv(J.dot(J.T))) # J Pseudo Matrix: JT·inv(J·JT)\n",
    "        Err = Target - FK(L, TH)  # error between Target vector and current End-effector vector\n",
    "        dTheta = Jp.@ Err.T    # theta derivartives for the next motion\n",
    "        ErrNorm = np.linalg.norm(Err)\n",
    "        if  ErrNorm < 0.1:\n",
    "            break\n",
    "    \n",
    "    X, Y = FK(L, TH, plot=True)\n",
    "    LLine.set_data(X, Y)\n",
    "    LDot.set_data(X, Y)\n",
    "    rate = 1\n",
    "    TH += dTheta[:, 0] * rate\n",
    "    \n",
    "    plt.draw()\n",
    "\n",
    "fig = plt.figure(figsize=(5,5))\n",
    "ax = fig.add_subplot(111)\n",
    "ax.axis([-1,N+1,-1,N+1], 'equal')\n",
    "ax.grid()\n",
    "\n",
    "LLine, = ax.plot([],[], linestyle='-', color='blue', alpha=1)\n",
    "LDot, = ax.plot([],[], marker='o', color='blue')\n",
    "Mouse, = ax.plot([],[], marker='x', ms=20, color='red')\n",
    "\n",
    "plt.connect('motion_notify_event', motion) #'axes_enter_event' 'motion_notify_event'\n",
    "plt.show()"
   ]
  },
  {
   "cell_type": "code",
   "execution_count": null,
   "metadata": {
    "ExecuteTime": {
     "end_time": "2021-03-16T14:23:37.147253Z",
     "start_time": "2021-03-16T14:23:36.988364Z"
    }
   },
   "outputs": [],
   "source": [
    "N = 5\n",
    "L = [1] * N\n",
    "TH = [np.pi / 8] * N\n",
    "Base = [0, 0]\n",
    "\n",
    "def nFK(L, TH, plot=False):\n",
    "    N = len(L)\n",
    "    X = [Base[0]]\n",
    "    Y = [Base[1]]\n",
    "    theta = 0\n",
    "    for i in range(N):\n",
    "        theta += TH[i]\n",
    "        X.append(X[-1] + L[i] * np.cos(theta))\n",
    "        Y.append(Y[-1] + L[i] * np.sin(theta))\n",
    "    if plot:\n",
    "        return X, Y\n",
    "    else:\n",
    "        return np.array([[X[-1], Y[-1]]])\n",
    "\n",
    "\n",
    "def nJMatrix(L, TH):\n",
    "    N = len(L)\n",
    "    X = []\n",
    "    Y = []\n",
    "    for i in range(N):\n",
    "        theta = 0\n",
    "        x = 0\n",
    "        y = 0\n",
    "        for j in range(i + 1):\n",
    "            theta += TH[j]\n",
    "            x -= L[j] * np.sin(theta)\n",
    "            y += L[j] * np.cos(theta)\n",
    "        X.append(x)\n",
    "        Y.append(y)\n",
    "    return np.array([X, Y])\n",
    "\n",
    "X, Y = nFK(L, TH, plot=True)\n",
    "Plot(X, Y)"
   ]
  },
  {
   "cell_type": "code",
   "execution_count": null,
   "metadata": {
    "ExecuteTime": {
     "end_time": "2021-03-16T14:24:43.555629Z",
     "start_time": "2021-03-16T14:24:43.241234Z"
    },
    "code_folding": []
   },
   "outputs": [],
   "source": [
    "def n_motion(event):\n",
    "    global TH\n",
    "    mx = event.xdata\n",
    "    my = event.ydata\n",
    "    Mouse.set_data(mx, my)\n",
    "    \n",
    "    Target = np.array([mx, my])\n",
    "    TN = np.linalg.norm(Target)\n",
    "    if sum(L) - TN <= 0:\n",
    "        Target *= sum(L) / TN\n",
    "        \n",
    "    J = nJMatrix(L, TH)        # Jacobian Matrix\n",
    "    Jp = J.T.dot(np.linalg.inv(J.dot(J.T))) # J Pseudo Matrix: JT·inv(J·JT)\n",
    "    Err = Target - nFK(L, TH)  # error between Target vector and current End-effector vector\n",
    "    dTheta = Jp.dot(Err.T)     # theta derivartives for the next motion\n",
    "    \n",
    "    X, Y = nFK(L, TH, plot=True)\n",
    "    LLine.set_data(X, Y)\n",
    "    LDot.set_data(X, Y)\n",
    "    rate = 0.1\n",
    "    TH += dTheta[:, 0] * rate\n",
    "    \n",
    "    ax.draw()\n",
    "\n",
    "fig = plt.figure(figsize=(5,5))\n",
    "ax = fig.add_subplot(111)\n",
    "ax.axis([-1,N+1,-1,N+1], 'equal')\n",
    "ax.grid()\n",
    "\n",
    "LLine, = ax.plot([],[], linestyle='-', color='blue', alpha=1)\n",
    "LDot, = ax.plot([],[], marker='o', color='blue')\n",
    "Mouse, = ax.plot([],[], marker='x', ms=20, color='red')\n",
    "\n",
    "plt.connect('motion_notify_event', n_motion)\n",
    "plt.show()"
   ]
  },
  {
   "cell_type": "code",
   "execution_count": null,
   "metadata": {
    "ExecuteTime": {
     "end_time": "2021-03-15T07:26:17.129077Z",
     "start_time": "2021-03-15T07:26:16.883997Z"
    }
   },
   "outputs": [],
   "source": [
    "N = 3\n",
    "Base = [0, 0]\n",
    "\n",
    "# L = [1, 1, 1]\n",
    "# Theta = np.radians([30, 30, 30]) # as degree\n",
    "L = [1] * N\n",
    "#Theta = [20] * N\n",
    "Theta = np.radians(np.random.randint(0, 30, N))\n",
    "\n",
    "def FK(L, Theta):\n",
    "    N = len(L)\n",
    "    X = [Base[0]]\n",
    "    Y = [Base[1]]\n",
    "    x = 0\n",
    "    y = 0\n",
    "    th = 0\n",
    "    for i in range(N):\n",
    "        th += Theta[i]\n",
    "        x += L[i] * np.cos(th)\n",
    "        y += L[i] * np.sin(th)\n",
    "        X.append(x)\n",
    "        Y.append(y)\n",
    "    return X, Y\n",
    "\n",
    "X, Y = FK(L, Theta)\n",
    "fig = plt.figure(figsize=(5,5))\n",
    "ax = fig.add_subplot(111)\n",
    "ax.axis([-1,N+1,-1,N+1])\n",
    "ax.grid()\n",
    "ax.plot(X, Y)\n",
    "ax.scatter(X, Y)\n",
    "ax.text(X[0], Y[0]-0.4, 'Base', ha='center')\n",
    "ax.text(X[N], Y[N]+0.2, 'End Effector', ha='left')"
   ]
  },
  {
   "cell_type": "code",
   "execution_count": null,
   "metadata": {
    "ExecuteTime": {
     "end_time": "2021-03-14T07:50:32.425643Z",
     "start_time": "2021-03-14T07:50:32.367115Z"
    }
   },
   "outputs": [],
   "source": [
    "L1 = 1\n",
    "L2 = 1\n",
    "L3 = 1\n",
    "\n",
    "th1 = np.radians(90)\n",
    "th2 = np.radians(90)\n",
    "th3 = np.radians(90)\n",
    "\n",
    "P0 = np.array([0, 0, 0])\n",
    "P1 = P0 + np.array([L1 * np.cos(th1), L1 * np.sin(th1), th1])\n",
    "P2 = P1 + np.array([L2 * np.cos(th1 + th2), L2 * np.sin(th1 + th2), th2])\n",
    "P3 = P2 + np.array([L3 * np.cos(th1 + th2 + th3), L2 * np.sin(th1 + th2 + th3), th3])\n",
    "\n",
    "Q = np.array([P0, P1, P2, P3])\n",
    "\n",
    "# dxdth1 = -L1 * np.sin(th1) - L2 * np.sin(th1 + th2) - L3 * np.sin(th1 + th2 + th3)\n",
    "# dxdth2 = -L2 * np.sin(th1 + th2) - L3 * np.sin(th1 + th2 + th3)\n",
    "# dxdth3 = -L3 * np.sin(th1 + th2 + th3)\n",
    "# dydth1 =  L1 * np.cos(th1) + L2 * np.cos(th1 + th2) + L3 * np.cos(th1 + th2 + th3)\n",
    "# dydth2 =  L2 * np.cos(th1 + th2) + L3 * np.cos(th1 + th2 + th3)\n",
    "# dydth3 =  L3 * np.cos(th1 + th2 + th3)\n",
    "# dthdth1 = 1\n",
    "# dthdth2 = 1\n",
    "# dthdth3 = 1\n",
    "\n",
    "# J = np.array([[dxdth1,  dxdth2,  dxdth3],\n",
    "#               [dydth1,  dydth2,  dydth3], \n",
    "#               [dthdth1, dthdth2, dthdth3]])"
   ]
  },
  {
   "cell_type": "code",
   "execution_count": null,
   "metadata": {
    "ExecuteTime": {
     "end_time": "2021-03-14T07:50:48.461963Z",
     "start_time": "2021-03-14T07:50:48.187531Z"
    }
   },
   "outputs": [],
   "source": [
    "N = 3\n",
    "X = []\n",
    "Y = []\n",
    "for i in range(N+1):\n",
    "    X.append(Q[i, 0])\n",
    "    Y.append(Q[i, 1])\n",
    "\n",
    "fig = plt.figure(figsize=(5,5))\n",
    "ax = fig.add_subplot(111)\n",
    "ax.axis([-2,N+1,-2,N+1])\n",
    "ax.grid()\n",
    "ax.plot(X, Y)\n",
    "print(X)"
   ]
  },
  {
   "cell_type": "code",
   "execution_count": null,
   "metadata": {},
   "outputs": [],
   "source": []
  }
 ],
 "metadata": {
  "kernelspec": {
   "display_name": "Python 3",
   "language": "python",
   "name": "python3"
  },
  "language_info": {
   "codemirror_mode": {
    "name": "ipython",
    "version": 3
   },
   "file_extension": ".py",
   "mimetype": "text/x-python",
   "name": "python",
   "nbconvert_exporter": "python",
   "pygments_lexer": "ipython3",
   "version": "3.8.5"
  }
 },
 "nbformat": 4,
 "nbformat_minor": 2
}
